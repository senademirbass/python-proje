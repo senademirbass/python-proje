{
 "cells": [
  {
   "cell_type": "markdown",
   "metadata": {},
   "source": [
    "ÖDEV 1"
   ]
  },
  {
   "cell_type": "code",
   "execution_count": null,
   "metadata": {},
   "outputs": [],
   "source": [
    "def islem():\n",
    "    sayi=input(\"Lütfen bir sayı girin:\")\n",
    "    if int(sayi)%2==0:\n",
    "        return \"Bu bir çift sayıdır.\"\n",
    "    else:\n",
    "        return \"Bu bir tek sayıdır.\""
   ]
  },
  {
   "cell_type": "code",
   "execution_count": 2,
   "metadata": {},
   "outputs": [
    {
     "name": "stdout",
     "output_type": "stream",
     "text": [
      "Lütfen bir sayı girin:10\n"
     ]
    },
    {
     "data": {
      "text/plain": [
       "'Bu bir çift sayıdır.'"
      ]
     },
     "execution_count": 2,
     "metadata": {},
     "output_type": "execute_result"
    }
   ],
   "source": [
    "islem()"
   ]
  },
  {
   "cell_type": "markdown",
   "metadata": {},
   "source": [
    "ÖDEV 2"
   ]
  },
  {
   "cell_type": "code",
   "execution_count": null,
   "metadata": {},
   "outputs": [],
   "source": [
    "sayi=int(input(\"Lütfen bir sayı girin:\"))\n",
    "if sayi > 1:\n",
    "    for a in range (2,sayi):\n",
    "        if(sayi%a)==0:\n",
    "            print(sayi, \"bu bir asal sayı değildir.\")\n",
    "            break\n",
    "    else:\n",
    "        print(sayi, \"bu bir asal sayıdır.\")\n",
    "else:\n",
    "    print(sayi, \"bu bir asal sayı değildir.\")"
   ]
  },
  {
   "cell_type": "markdown",
   "metadata": {},
   "source": [
    "ÖDEV 3"
   ]
  },
  {
   "cell_type": "code",
   "execution_count": 65,
   "metadata": {},
   "outputs": [
    {
     "name": "stdout",
     "output_type": "stream",
     "text": [
      "Ahmet\n",
      "Mehmet\n",
      "Hakan\n",
      "['Ahmet', 'Mehmet', 'Mehmet']\n",
      "Ahmet-Mehmet-Hakan\n"
     ]
    }
   ],
   "source": [
    "ilk_string=\"Ah5me4t\"\n",
    "duzeltme=ilk_string.replace(\"5\",\"\")\n",
    "duzeltme1=duzeltme.replace(\"4\",\"\")\n",
    "isim1=duzeltme1\n",
    "print(isim1)\n",
    "\n",
    "ikinci_string=\"M9eHm4eT\"\n",
    "duzeltme2=ikinci_string.replace(\"9\",\"\")\n",
    "duzeltme3=duzeltme2.replace(\"4\",\"\")\n",
    "isim2=duzeltme3.title()\n",
    "print(isim2)\n",
    "\n",
    "ucuncu_string=\"Ha3K5a1n\"\n",
    "duzeltme4=ucuncu_string.replace(\"3\",\"\")\n",
    "duzeltme5=duzeltme4.replace(\"5\",\"\")\n",
    "duzeltme6=duzeltme5.replace(\"1\",\"\")\n",
    "isim3=duzeltme6.title()\n",
    "print(isim3)\n",
    "\n",
    "isimler = []\n",
    "isimler.append(isim1)\n",
    "isimler.append(isim2)\n",
    "isimler.append(isim2)\n",
    "print(isimler)\n",
    "\n",
    "bir=isim1\n",
    "iki=isim2\n",
    "uc=isim3\n",
    "cizgi=\"-\"\n",
    "birlesmis_deger=isim1+cizgi+isim2+cizgi+isim3\n",
    "print(birlesmis_deger)\n"
   ]
  },
  {
   "cell_type": "code",
   "execution_count": null,
   "metadata": {},
   "outputs": [],
   "source": []
  }
 ],
 "metadata": {
  "kernelspec": {
   "display_name": "Python 3",
   "language": "python",
   "name": "python3"
  },
  "language_info": {
   "codemirror_mode": {
    "name": "ipython",
    "version": 3
   },
   "file_extension": ".py",
   "mimetype": "text/x-python",
   "name": "python",
   "nbconvert_exporter": "python",
   "pygments_lexer": "ipython3",
   "version": "3.8.5"
  }
 },
 "nbformat": 4,
 "nbformat_minor": 4
}
